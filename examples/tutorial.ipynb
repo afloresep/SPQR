{
 "cells": [
  {
   "cell_type": "markdown",
   "metadata": {},
   "source": [
    "### Imports"
   ]
  },
  {
   "cell_type": "code",
   "execution_count": 1,
   "metadata": {},
   "outputs": [],
   "source": [
    "from spiq.streamer.data_streamer import DataStreamer\n",
    "from spiq.utils.fingerprints import FingerprintCalculator"
   ]
  },
  {
   "cell_type": "markdown",
   "metadata": {},
   "source": [
    "### FINGERPRINT MODULE"
   ]
  },
  {
   "cell_type": "markdown",
   "metadata": {},
   "source": [
    "Simple example on how the API works"
   ]
  },
  {
   "cell_type": "code",
   "execution_count": 2,
   "metadata": {},
   "outputs": [
    {
     "name": "stdout",
     "output_type": "stream",
     "text": [
      "Fingerprints shape: (3, 2048)\n",
      "Fingerprint 1 [0 0 1 ... 0 0 0]\n"
     ]
    }
   ],
   "source": [
    "# Define a list of SMILES strings\n",
    "smiles_list = [\"CCO\", \"C1CCCCC1\", \"O=C=O\"]\n",
    "\n",
    "# Define fingerprint parameters\n",
    "params = {'fpSize': 2048, 'radius': 2}\n",
    "\n",
    "# Create an instance of FingerprintCalculator\n",
    "calculator = FingerprintCalculator()\n",
    "\n",
    "# Compute fingerprints for the list of SMILES strings\n",
    "fingerprints = calculator.FingerprintFromSmiles(smiles_list, 'morgan', **params)\n",
    "\n",
    "# Display the shape of the output fingerprint array\n",
    "print(f\"Fingerprints shape: {fingerprints.shape}\")\n",
    "print(\"Fingerprint 1\", fingerprints[1])"
   ]
  },
  {
   "cell_type": "markdown",
   "metadata": {},
   "source": [
    "How to use the API for loading fingerprints in chunks"
   ]
  },
  {
   "cell_type": "code",
   "execution_count": 5,
   "metadata": {},
   "outputs": [
    {
     "name": "stdout",
     "output_type": "stream",
     "text": [
      "<class 'generator'>\n",
      " Fingerprints calculated: 10,000"
     ]
    }
   ],
   "source": [
    "# Import iterator method\n",
    "ds = DataStreamer()\n",
    "\n",
    "chunksize = 1_230\n",
    "smiles= ds.parse_input(input_path='../data/data_lite.txt', chunksize=chunksize)\n",
    "print(type(smiles)) # This is only the generator, in order to get each chunk of data we need to iterate\n",
    "\n",
    "count = 0\n",
    "for smiles_chunk in smiles:\n",
    "     count += len(smiles_chunk)\n",
    "     calculator.FingerprintFromSmiles(smiles_chunk, 'morgan', **params)\n",
    "     print(f\"\\r Fingerprints calculated: {count:,}\", end='', flush=True)"
   ]
  },
  {
   "cell_type": "markdown",
   "metadata": {},
   "source": [
    "If we want to save each chunk as a separate file -ideal for large chunks that we could use later- then `save_chunk` from the `helper_functions.py`is provided"
   ]
  },
  {
   "cell_type": "code",
   "execution_count": 7,
   "metadata": {},
   "outputs": [
    {
     "name": "stdout",
     "output_type": "stream",
     "text": [
      " Fingerprints calculated: 10,000"
     ]
    }
   ],
   "source": [
    "from spiq.utils.helper_functions import save_chunk\n",
    "\n",
    "smiles= ds.parse_input(input_path='../data/data_lite.txt', chunksize=chunksize)\n",
    "\n",
    "count = 0\n",
    "for idx, smiles_chunk in enumerate(smiles):\n",
    "    count += len(smiles_chunk)\n",
    "    fp_chunk = calculator.FingerprintFromSmiles(smiles_chunk, 'morgan', **params)\n",
    "    save_chunk(fp_chunk, output_dir='../data/', chunk_index=idx, file_format='npy')\n",
    "    print(f\"\\r Fingerprints calculated: {count:,}\", end='', flush=True)"
   ]
  },
  {
   "cell_type": "code",
   "execution_count": null,
   "metadata": {},
   "outputs": [],
   "source": []
  }
 ],
 "metadata": {
  "kernelspec": {
   "display_name": "spiq",
   "language": "python",
   "name": "python3"
  },
  "language_info": {
   "codemirror_mode": {
    "name": "ipython",
    "version": 3
   },
   "file_extension": ".py",
   "mimetype": "text/x-python",
   "name": "python",
   "nbconvert_exporter": "python",
   "pygments_lexer": "ipython3",
   "version": "3.13.2"
  }
 },
 "nbformat": 4,
 "nbformat_minor": 2
}
